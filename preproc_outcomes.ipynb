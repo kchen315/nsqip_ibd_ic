{
 "cells": [
  {
   "cell_type": "code",
   "execution_count": 1,
   "metadata": {},
   "outputs": [],
   "source": [
    "import pandas as pd"
   ]
  },
  {
   "cell_type": "code",
   "execution_count": 2,
   "metadata": {},
   "outputs": [
    {
     "data": {
      "text/html": [
       "<div>\n",
       "<style scoped>\n",
       "    .dataframe tbody tr th:only-of-type {\n",
       "        vertical-align: middle;\n",
       "    }\n",
       "\n",
       "    .dataframe tbody tr th {\n",
       "        vertical-align: top;\n",
       "    }\n",
       "\n",
       "    .dataframe thead th {\n",
       "        text-align: right;\n",
       "    }\n",
       "</style>\n",
       "<table border=\"1\" class=\"dataframe\">\n",
       "  <thead>\n",
       "    <tr style=\"text-align: right;\">\n",
       "      <th></th>\n",
       "      <th>age.at.time.of.surgery</th>\n",
       "      <th>gender</th>\n",
       "      <th>race</th>\n",
       "      <th>hispanic.ethnicity</th>\n",
       "      <th>cpt.code</th>\n",
       "      <th>in/out-patient.status</th>\n",
       "      <th>elective.surgery</th>\n",
       "      <th>origin.status</th>\n",
       "      <th>height</th>\n",
       "      <th>weight</th>\n",
       "      <th>...</th>\n",
       "      <th>colectomy.malignancy,.pathologic.n.stage</th>\n",
       "      <th>colectomy.malignancy,.pathologic.m.stage</th>\n",
       "      <th>colectomy.number.of.nodes.evaluated</th>\n",
       "      <th>colectomy.postop.anastomotic.leak</th>\n",
       "      <th>colectomy.prolonged.postoperative.npo.or.ngt.use</th>\n",
       "      <th>ileostomy.formation</th>\n",
       "      <th>biologic.agent.60.days.prior.to.surgery</th>\n",
       "      <th>immune.modulation.60.days.prior.to.surgery</th>\n",
       "      <th>colonic.dysplasia</th>\n",
       "      <th>malnourishment</th>\n",
       "    </tr>\n",
       "    <tr>\n",
       "      <th>case.number</th>\n",
       "      <th></th>\n",
       "      <th></th>\n",
       "      <th></th>\n",
       "      <th></th>\n",
       "      <th></th>\n",
       "      <th></th>\n",
       "      <th></th>\n",
       "      <th></th>\n",
       "      <th></th>\n",
       "      <th></th>\n",
       "      <th></th>\n",
       "      <th></th>\n",
       "      <th></th>\n",
       "      <th></th>\n",
       "      <th></th>\n",
       "      <th></th>\n",
       "      <th></th>\n",
       "      <th></th>\n",
       "      <th></th>\n",
       "      <th></th>\n",
       "      <th></th>\n",
       "    </tr>\n",
       "  </thead>\n",
       "  <tbody>\n",
       "    <tr>\n",
       "      <th>127544.0</th>\n",
       "      <td>28.82</td>\n",
       "      <td>Female</td>\n",
       "      <td>White</td>\n",
       "      <td>No</td>\n",
       "      <td>44160</td>\n",
       "      <td>Inpatient</td>\n",
       "      <td>No</td>\n",
       "      <td>Outside emergency department</td>\n",
       "      <td>177.80</td>\n",
       "      <td>113.00</td>\n",
       "      <td>...</td>\n",
       "      <td>NaN</td>\n",
       "      <td>NaN</td>\n",
       "      <td>6.0</td>\n",
       "      <td>No definitive diagnosis of leak/leak related a...</td>\n",
       "      <td>No</td>\n",
       "      <td>Ileostomy</td>\n",
       "      <td>No</td>\n",
       "      <td>Yes</td>\n",
       "      <td>No Dysplasia</td>\n",
       "      <td>NaN</td>\n",
       "    </tr>\n",
       "    <tr>\n",
       "      <th>127711.0</th>\n",
       "      <td>24.56</td>\n",
       "      <td>Female</td>\n",
       "      <td>White</td>\n",
       "      <td>No</td>\n",
       "      <td>44205</td>\n",
       "      <td>Inpatient</td>\n",
       "      <td>No</td>\n",
       "      <td>Not transferred (admitted from home)</td>\n",
       "      <td>162.56</td>\n",
       "      <td>88.20</td>\n",
       "      <td>...</td>\n",
       "      <td>NaN</td>\n",
       "      <td>NaN</td>\n",
       "      <td>9.0</td>\n",
       "      <td>No definitive diagnosis of leak/leak related a...</td>\n",
       "      <td>No</td>\n",
       "      <td>None</td>\n",
       "      <td>Yes</td>\n",
       "      <td>No</td>\n",
       "      <td>No Dysplasia</td>\n",
       "      <td>NaN</td>\n",
       "    </tr>\n",
       "    <tr>\n",
       "      <th>128513.0</th>\n",
       "      <td>21.40</td>\n",
       "      <td>Female</td>\n",
       "      <td>Black or African American</td>\n",
       "      <td>No</td>\n",
       "      <td>44160</td>\n",
       "      <td>Inpatient</td>\n",
       "      <td>No</td>\n",
       "      <td>Not transferred (admitted from home)</td>\n",
       "      <td>157.48</td>\n",
       "      <td>83.92</td>\n",
       "      <td>...</td>\n",
       "      <td>NaN</td>\n",
       "      <td>NaN</td>\n",
       "      <td>NaN</td>\n",
       "      <td>No definitive diagnosis of leak/leak related a...</td>\n",
       "      <td>No</td>\n",
       "      <td>Ileostomy</td>\n",
       "      <td>Yes</td>\n",
       "      <td>No</td>\n",
       "      <td>No Dysplasia</td>\n",
       "      <td>NaN</td>\n",
       "    </tr>\n",
       "    <tr>\n",
       "      <th>128570.0</th>\n",
       "      <td>59.18</td>\n",
       "      <td>Female</td>\n",
       "      <td>White</td>\n",
       "      <td>No</td>\n",
       "      <td>44160</td>\n",
       "      <td>Outpatient</td>\n",
       "      <td>Yes</td>\n",
       "      <td>Not transferred (admitted from home)</td>\n",
       "      <td>170.18</td>\n",
       "      <td>84.60</td>\n",
       "      <td>...</td>\n",
       "      <td>NaN</td>\n",
       "      <td>NaN</td>\n",
       "      <td>NaN</td>\n",
       "      <td>No definitive diagnosis of leak/leak related a...</td>\n",
       "      <td>No</td>\n",
       "      <td>None</td>\n",
       "      <td>No</td>\n",
       "      <td>No</td>\n",
       "      <td>No Dysplasia</td>\n",
       "      <td>NaN</td>\n",
       "    </tr>\n",
       "    <tr>\n",
       "      <th>128589.0</th>\n",
       "      <td>37.81</td>\n",
       "      <td>Female</td>\n",
       "      <td>White</td>\n",
       "      <td>No</td>\n",
       "      <td>44160</td>\n",
       "      <td>Inpatient</td>\n",
       "      <td>Yes</td>\n",
       "      <td>Not transferred (admitted from home)</td>\n",
       "      <td>167.64</td>\n",
       "      <td>64.90</td>\n",
       "      <td>...</td>\n",
       "      <td>NaN</td>\n",
       "      <td>NaN</td>\n",
       "      <td>5.0</td>\n",
       "      <td>No definitive diagnosis of leak/leak related a...</td>\n",
       "      <td>No</td>\n",
       "      <td>None</td>\n",
       "      <td>Yes</td>\n",
       "      <td>Yes</td>\n",
       "      <td>No Dysplasia</td>\n",
       "      <td>NaN</td>\n",
       "    </tr>\n",
       "  </tbody>\n",
       "</table>\n",
       "<p>5 rows × 88 columns</p>\n",
       "</div>"
      ],
      "text/plain": [
       "             age.at.time.of.surgery  gender                       race  \\\n",
       "case.number                                                              \n",
       "127544.0                      28.82  Female                      White   \n",
       "127711.0                      24.56  Female                      White   \n",
       "128513.0                      21.40  Female  Black or African American   \n",
       "128570.0                      59.18  Female                      White   \n",
       "128589.0                      37.81  Female                      White   \n",
       "\n",
       "            hispanic.ethnicity  cpt.code in/out-patient.status  \\\n",
       "case.number                                                      \n",
       "127544.0                    No     44160             Inpatient   \n",
       "127711.0                    No     44205             Inpatient   \n",
       "128513.0                    No     44160             Inpatient   \n",
       "128570.0                    No     44160            Outpatient   \n",
       "128589.0                    No     44160             Inpatient   \n",
       "\n",
       "            elective.surgery                         origin.status  height  \\\n",
       "case.number                                                                  \n",
       "127544.0                  No          Outside emergency department  177.80   \n",
       "127711.0                  No  Not transferred (admitted from home)  162.56   \n",
       "128513.0                  No  Not transferred (admitted from home)  157.48   \n",
       "128570.0                 Yes  Not transferred (admitted from home)  170.18   \n",
       "128589.0                 Yes  Not transferred (admitted from home)  167.64   \n",
       "\n",
       "             weight  ...  colectomy.malignancy,.pathologic.n.stage  \\\n",
       "case.number          ...                                             \n",
       "127544.0     113.00  ...                                       NaN   \n",
       "127711.0      88.20  ...                                       NaN   \n",
       "128513.0      83.92  ...                                       NaN   \n",
       "128570.0      84.60  ...                                       NaN   \n",
       "128589.0      64.90  ...                                       NaN   \n",
       "\n",
       "            colectomy.malignancy,.pathologic.m.stage  \\\n",
       "case.number                                            \n",
       "127544.0                                         NaN   \n",
       "127711.0                                         NaN   \n",
       "128513.0                                         NaN   \n",
       "128570.0                                         NaN   \n",
       "128589.0                                         NaN   \n",
       "\n",
       "            colectomy.number.of.nodes.evaluated  \\\n",
       "case.number                                       \n",
       "127544.0                                    6.0   \n",
       "127711.0                                    9.0   \n",
       "128513.0                                    NaN   \n",
       "128570.0                                    NaN   \n",
       "128589.0                                    5.0   \n",
       "\n",
       "                             colectomy.postop.anastomotic.leak  \\\n",
       "case.number                                                      \n",
       "127544.0     No definitive diagnosis of leak/leak related a...   \n",
       "127711.0     No definitive diagnosis of leak/leak related a...   \n",
       "128513.0     No definitive diagnosis of leak/leak related a...   \n",
       "128570.0     No definitive diagnosis of leak/leak related a...   \n",
       "128589.0     No definitive diagnosis of leak/leak related a...   \n",
       "\n",
       "            colectomy.prolonged.postoperative.npo.or.ngt.use  \\\n",
       "case.number                                                    \n",
       "127544.0                                                  No   \n",
       "127711.0                                                  No   \n",
       "128513.0                                                  No   \n",
       "128570.0                                                  No   \n",
       "128589.0                                                  No   \n",
       "\n",
       "            ileostomy.formation biologic.agent.60.days.prior.to.surgery  \\\n",
       "case.number                                                               \n",
       "127544.0              Ileostomy                                      No   \n",
       "127711.0                   None                                     Yes   \n",
       "128513.0              Ileostomy                                     Yes   \n",
       "128570.0                   None                                      No   \n",
       "128589.0                   None                                     Yes   \n",
       "\n",
       "            immune.modulation.60.days.prior.to.surgery colonic.dysplasia  \\\n",
       "case.number                                                                \n",
       "127544.0                                           Yes      No Dysplasia   \n",
       "127711.0                                            No      No Dysplasia   \n",
       "128513.0                                            No      No Dysplasia   \n",
       "128570.0                                            No      No Dysplasia   \n",
       "128589.0                                           Yes      No Dysplasia   \n",
       "\n",
       "            malnourishment  \n",
       "case.number                 \n",
       "127544.0               NaN  \n",
       "127711.0               NaN  \n",
       "128513.0               NaN  \n",
       "128570.0               NaN  \n",
       "128589.0               NaN  \n",
       "\n",
       "[5 rows x 88 columns]"
      ]
     },
     "execution_count": 2,
     "metadata": {},
     "output_type": "execute_result"
    }
   ],
   "source": [
    "data = pd.read_csv('data/comb5_data.csv', index_col=0)\n",
    "data.head()"
   ]
  },
  {
   "cell_type": "code",
   "execution_count": 3,
   "metadata": {},
   "outputs": [
    {
     "data": {
      "text/plain": [
       "['age.at.time.of.surgery',\n",
       " 'gender',\n",
       " 'race',\n",
       " 'hispanic.ethnicity',\n",
       " 'cpt.code',\n",
       " 'in/out-patient.status',\n",
       " 'elective.surgery',\n",
       " 'origin.status',\n",
       " 'height',\n",
       " 'weight',\n",
       " 'bmi',\n",
       " 'diabetes.mellitus',\n",
       " 'current.smoker.within.1.year',\n",
       " 'dyspnea',\n",
       " 'functional.heath.status',\n",
       " 'ventilator.dependent',\n",
       " 'history.of.severe.copd',\n",
       " 'ascites.w/in.30.days.prior.to.surgery',\n",
       " 'congestive.heart.failure.w/in.30.days.prior.to.surgery',\n",
       " 'hypertension.requiring.medication',\n",
       " 'acute.renal.failure',\n",
       " 'currently.requiring.or.on.dialysis',\n",
       " 'disseminated.cancer',\n",
       " 'open.wound.with.or.without.infection',\n",
       " 'steroid/immunosuppressant.use.for.chronic.condition',\n",
       " 'bleeding.disorder',\n",
       " 'preop.transfusions.(rbc.w/in.72.hrs.prior.to.surgery.start.time)',\n",
       " 'sepsis.(sirs/sepsis/septic.shock).(48h)',\n",
       " 'serum.sodium',\n",
       " 'bun',\n",
       " 'serum.creatinine',\n",
       " 'albumin',\n",
       " 'wbc',\n",
       " 'hematocrit',\n",
       " 'platelet.count',\n",
       " 'emergency.case',\n",
       " 'wound.classification',\n",
       " 'asa.classification',\n",
       " '#.of.other.procedures',\n",
       " '#.of.concurrent.procedures',\n",
       " 'surgical.wound(s).closure',\n",
       " 'duration.of.surgical.procedure.(in.minutes)',\n",
       " '#.of.postop.superficial.incisional.ssi',\n",
       " '#.of.postop.deep.incisional.ssi',\n",
       " '#.of.postop.organ/space.ssi',\n",
       " '#.of.postop.wound.disruption',\n",
       " '#.of.postop.pneumonia',\n",
       " '#.of.postop.unplanned.intubation',\n",
       " '#.of.postop.pulmonary.embolism',\n",
       " '#.of.postop.on.ventilator.>.48.hours',\n",
       " '#.of.postop.progressive.renal.insufficiency',\n",
       " '#.of.postop.acute.renal.failure',\n",
       " '#.of.postop.uti',\n",
       " '#.of.postop.cva',\n",
       " '#.of.postop.cardiac.arrest.requiring.cpr',\n",
       " '#.of.postop.myocardial.infarction',\n",
       " '#.of.postop.transfusion.intraop/.postop.(72h.of.surgery.start.time)',\n",
       " '#.of.postop.vein.thrombosis.requiring.therapy',\n",
       " '#.of.postop.c..diff',\n",
       " '#.of.postop.sepsis',\n",
       " '#.of.postop.septic.shock',\n",
       " '#.of.postop.other.occurrences',\n",
       " 'hospital.length.of.stay',\n",
       " 'hospital.discharge.destination',\n",
       " 'postop.death.w/in.30.days.of.procedure',\n",
       " 'postoperative.death.>.30.days.of.procedure',\n",
       " '#.of.readmissions.w/in.30.days',\n",
       " '#.of.unplanned.readmissions',\n",
       " 'first.unplanned.return.to.or',\n",
       " 'first.unplanned.return.cpt',\n",
       " 'colectomy.steroid/immunosuppressant.for.inflammatory.bowel',\n",
       " 'colectomy.mechanical.bowel.prep',\n",
       " 'colectomy.oral.antibiotic.prep',\n",
       " 'colectomy.chemotherapy.w/in.90.days',\n",
       " 'colectomy.primary.indication.for.surgery',\n",
       " 'colectomy.non-emergent.indication.icd10.code',\n",
       " 'colectomy.operative.approach',\n",
       " 'colectomy.malignancy,.pathologic.t.stage',\n",
       " 'colectomy.malignancy,.pathologic.n.stage',\n",
       " 'colectomy.malignancy,.pathologic.m.stage',\n",
       " 'colectomy.number.of.nodes.evaluated',\n",
       " 'colectomy.postop.anastomotic.leak',\n",
       " 'colectomy.prolonged.postoperative.npo.or.ngt.use',\n",
       " 'ileostomy.formation',\n",
       " 'biologic.agent.60.days.prior.to.surgery',\n",
       " 'immune.modulation.60.days.prior.to.surgery',\n",
       " 'colonic.dysplasia',\n",
       " 'malnourishment']"
      ]
     },
     "execution_count": 3,
     "metadata": {},
     "output_type": "execute_result"
    }
   ],
   "source": [
    "data.columns.to_list()"
   ]
  },
  {
   "cell_type": "code",
   "execution_count": 4,
   "metadata": {},
   "outputs": [],
   "source": [
    "others = ['hospital.discharge.destination', 'hospital.length.of.stay', 'surgical.wound(s).closure','first.unplanned.return.cpt','postop.death.w/in.30.days.of.procedure','postoperative.death.>.30.days.of.procedure',]"
   ]
  },
  {
   "cell_type": "code",
   "execution_count": 5,
   "metadata": {},
   "outputs": [],
   "source": [
    "all_comp = ['#.of.postop.superficial.incisional.ssi',\n",
    "                '#.of.postop.deep.incisional.ssi', '#.of.postop.organ/space.ssi',\n",
    "                '#.of.postop.wound.disruption', '#.of.postop.pneumonia',\n",
    "                '#.of.postop.unplanned.intubation', '#.of.postop.pulmonary.embolism',\n",
    "                '#.of.postop.on.ventilator.>.48.hours',\n",
    "                '#.of.postop.progressive.renal.insufficiency',\n",
    "                '#.of.postop.acute.renal.failure', '#.of.postop.uti', '#.of.postop.cva',\n",
    "                '#.of.postop.cardiac.arrest.requiring.cpr',\n",
    "                '#.of.postop.myocardial.infarction',\n",
    "                '#.of.postop.transfusion.intraop/.postop.(72h.of.surgery.start.time)',\n",
    "                '#.of.postop.vein.thrombosis.requiring.therapy', '#.of.postop.c..diff',\n",
    "                '#.of.postop.sepsis',\n",
    "                '#.of.postop.septic.shock',\n",
    "                '#.of.postop.other.occurrences',              \n",
    "                \n",
    "                \n",
    "                '#.of.readmissions.w/in.30.days', '#.of.unplanned.readmissions',\n",
    "                'first.unplanned.return.to.or', \n",
    "                'colectomy.postop.anastomotic.leak',\n",
    "                'colectomy.prolonged.postoperative.npo.or.ngt.use']\n"
   ]
  },
  {
   "cell_type": "code",
   "execution_count": 6,
   "metadata": {},
   "outputs": [],
   "source": [
    "all_comps = all_comp + others"
   ]
  },
  {
   "cell_type": "code",
   "execution_count": 7,
   "metadata": {},
   "outputs": [
    {
     "name": "stderr",
     "output_type": "stream",
     "text": [
      "/tmp/ipykernel_26153/3732454758.py:5: DeprecationWarning: `np.object` is a deprecated alias for the builtin `object`. To silence this warning, use `object` by itself. Doing this will not modify any behavior and is safe. \n",
      "Deprecated in NumPy 1.20; for more details and guidance: https://numpy.org/devdocs/release/1.20.0-notes.html#deprecations\n",
      "  if data[col].dtype == np.object:\n"
     ]
    },
    {
     "data": {
      "text/plain": [
       "['first.unplanned.return.to.or',\n",
       " 'colectomy.postop.anastomotic.leak',\n",
       " 'colectomy.prolonged.postoperative.npo.or.ngt.use']"
      ]
     },
     "execution_count": 7,
     "metadata": {},
     "output_type": "execute_result"
    }
   ],
   "source": [
    "#find columns with non-numeric values\n",
    "import numpy as np\n",
    "non_numeric = []\n",
    "for col in all_comp:\n",
    "    if data[col].dtype == np.object:\n",
    "        non_numeric.append(col)\n",
    "\n",
    "non_numeric"
   ]
  },
  {
   "cell_type": "code",
   "execution_count": 8,
   "metadata": {},
   "outputs": [
    {
     "data": {
      "text/plain": [
       "No     1358\n",
       "Yes      49\n",
       "Name: first.unplanned.return.to.or, dtype: int64"
      ]
     },
     "execution_count": 8,
     "metadata": {},
     "output_type": "execute_result"
    }
   ],
   "source": [
    "data['first.unplanned.return.to.or'].value_counts()"
   ]
  },
  {
   "cell_type": "code",
   "execution_count": 9,
   "metadata": {},
   "outputs": [
    {
     "data": {
      "text/plain": [
       "0    1358\n",
       "1      49\n",
       "Name: first.unplanned.return.to.or, dtype: int64"
      ]
     },
     "execution_count": 9,
     "metadata": {},
     "output_type": "execute_result"
    }
   ],
   "source": [
    "data.loc[data['first.unplanned.return.to.or'] == 'Yes', 'first.unplanned.return.to.or'] = 1\n",
    "data.loc[data['first.unplanned.return.to.or'] == 'No', 'first.unplanned.return.to.or'] = 0\n",
    "data['first.unplanned.return.to.or'].value_counts()"
   ]
  },
  {
   "cell_type": "code",
   "execution_count": 10,
   "metadata": {},
   "outputs": [
    {
     "data": {
      "text/plain": [
       "No definitive diagnosis of leak/leak related abscess       1368\n",
       "Leak, treated w/ reoperation                                 19\n",
       "Leak, treated w/ interventional means                        16\n",
       "Leak, treated w/ non-interventional/non-operative means       2\n",
       "NaN                                                           1\n",
       "Leak, no treatment intervention documented                    1\n",
       "Name: colectomy.postop.anastomotic.leak, dtype: int64"
      ]
     },
     "execution_count": 10,
     "metadata": {},
     "output_type": "execute_result"
    }
   ],
   "source": [
    "data['colectomy.postop.anastomotic.leak'].value_counts(dropna=False)"
   ]
  },
  {
   "cell_type": "code",
   "execution_count": 11,
   "metadata": {},
   "outputs": [
    {
     "data": {
      "text/plain": [
       "0    1369\n",
       "1      38\n",
       "Name: colectomy.postop.anastomotic.leak, dtype: int64"
      ]
     },
     "execution_count": 11,
     "metadata": {},
     "output_type": "execute_result"
    }
   ],
   "source": [
    "data.loc[data['colectomy.postop.anastomotic.leak'] == 'No definitive diagnosis of leak/leak related abscess', 'colectomy.postop.anastomotic.leak'] = 0\n",
    "data['colectomy.postop.anastomotic.leak'].fillna(0, inplace=True)\n",
    "data.loc[data['colectomy.postop.anastomotic.leak'] != 0, 'colectomy.postop.anastomotic.leak'] = 1\n",
    "data['colectomy.postop.anastomotic.leak'].value_counts(dropna=False)"
   ]
  },
  {
   "cell_type": "code",
   "execution_count": 12,
   "metadata": {},
   "outputs": [
    {
     "data": {
      "text/plain": [
       "No     1228\n",
       "Yes     178\n",
       "NaN       1\n",
       "Name: colectomy.prolonged.postoperative.npo.or.ngt.use, dtype: int64"
      ]
     },
     "execution_count": 12,
     "metadata": {},
     "output_type": "execute_result"
    }
   ],
   "source": [
    "data['colectomy.prolonged.postoperative.npo.or.ngt.use'].value_counts(dropna=False)"
   ]
  },
  {
   "cell_type": "code",
   "execution_count": 13,
   "metadata": {},
   "outputs": [
    {
     "data": {
      "text/plain": [
       "0    1229\n",
       "1     178\n",
       "Name: colectomy.prolonged.postoperative.npo.or.ngt.use, dtype: int64"
      ]
     },
     "execution_count": 13,
     "metadata": {},
     "output_type": "execute_result"
    }
   ],
   "source": [
    "data.loc[data['colectomy.prolonged.postoperative.npo.or.ngt.use'] == 'No', 'colectomy.prolonged.postoperative.npo.or.ngt.use'] = 0\n",
    "data['colectomy.prolonged.postoperative.npo.or.ngt.use'].fillna(0, inplace=True)\n",
    "data.loc[data['colectomy.prolonged.postoperative.npo.or.ngt.use'] != 0, 'colectomy.prolonged.postoperative.npo.or.ngt.use'] = 1\n",
    "data['colectomy.prolonged.postoperative.npo.or.ngt.use'].value_counts(dropna=False)"
   ]
  },
  {
   "cell_type": "code",
   "execution_count": 14,
   "metadata": {},
   "outputs": [],
   "source": [
    "#try to convert to numeric\n",
    "for col in non_numeric:\n",
    "    try:\n",
    "        data[col] = pd.to_numeric(data[col])\n",
    "    except:\n",
    "        print(col)"
   ]
  },
  {
   "cell_type": "code",
   "execution_count": 15,
   "metadata": {},
   "outputs": [
    {
     "name": "stderr",
     "output_type": "stream",
     "text": [
      "/tmp/ipykernel_26153/1426312865.py:3: DeprecationWarning: `np.object` is a deprecated alias for the builtin `object`. To silence this warning, use `object` by itself. Doing this will not modify any behavior and is safe. \n",
      "Deprecated in NumPy 1.20; for more details and guidance: https://numpy.org/devdocs/release/1.20.0-notes.html#deprecations\n",
      "  if data[col].dtype == np.object:\n"
     ]
    },
    {
     "data": {
      "text/plain": [
       "[]"
      ]
     },
     "execution_count": 15,
     "metadata": {},
     "output_type": "execute_result"
    }
   ],
   "source": [
    "non_numeric = []\n",
    "for col in all_comp:\n",
    "    if data[col].dtype == np.object:\n",
    "        non_numeric.append(col)\n",
    "\n",
    "non_numeric"
   ]
  },
  {
   "cell_type": "code",
   "execution_count": 16,
   "metadata": {},
   "outputs": [
    {
     "data": {
      "text/plain": [
       "1.0    825\n",
       "0.0    582\n",
       "Name: any_comp, dtype: int64"
      ]
     },
     "execution_count": 16,
     "metadata": {},
     "output_type": "execute_result"
    }
   ],
   "source": [
    "data['any_comp'] = np.NaN\n",
    "#if any of the complications are present, set any_comp to 1\n",
    "for col in all_comp:\n",
    "    data.loc[data[col] != 0, 'any_comp'] = 1\n",
    "data['any_comp'].fillna(0, inplace=True)\n",
    "data['any_comp'].value_counts(dropna=False)"
   ]
  },
  {
   "cell_type": "code",
   "execution_count": 17,
   "metadata": {},
   "outputs": [
    {
     "data": {
      "text/html": [
       "<div>\n",
       "<style scoped>\n",
       "    .dataframe tbody tr th:only-of-type {\n",
       "        vertical-align: middle;\n",
       "    }\n",
       "\n",
       "    .dataframe tbody tr th {\n",
       "        vertical-align: top;\n",
       "    }\n",
       "\n",
       "    .dataframe thead th {\n",
       "        text-align: right;\n",
       "    }\n",
       "</style>\n",
       "<table border=\"1\" class=\"dataframe\">\n",
       "  <thead>\n",
       "    <tr style=\"text-align: right;\">\n",
       "      <th>any_comp</th>\n",
       "      <th>0.0</th>\n",
       "      <th>1.0</th>\n",
       "    </tr>\n",
       "    <tr>\n",
       "      <th>ileostomy.formation</th>\n",
       "      <th></th>\n",
       "      <th></th>\n",
       "    </tr>\n",
       "  </thead>\n",
       "  <tbody>\n",
       "    <tr>\n",
       "      <th>Ileostomy</th>\n",
       "      <td>0.299145</td>\n",
       "      <td>0.700855</td>\n",
       "    </tr>\n",
       "    <tr>\n",
       "      <th>None</th>\n",
       "      <td>0.436488</td>\n",
       "      <td>0.563512</td>\n",
       "    </tr>\n",
       "  </tbody>\n",
       "</table>\n",
       "</div>"
      ],
      "text/plain": [
       "any_comp                  0.0       1.0\n",
       "ileostomy.formation                    \n",
       "Ileostomy            0.299145  0.700855\n",
       "None                 0.436488  0.563512"
      ]
     },
     "execution_count": 17,
     "metadata": {},
     "output_type": "execute_result"
    }
   ],
   "source": [
    "pd.crosstab(data['ileostomy.formation'], data['any_comp'], normalize='index')"
   ]
  },
  {
   "cell_type": "code",
   "execution_count": 18,
   "metadata": {},
   "outputs": [],
   "source": [
    "for x in all_comp:\n",
    "    data.loc[data[x] != 0, x] = 1"
   ]
  },
  {
   "cell_type": "code",
   "execution_count": 19,
   "metadata": {},
   "outputs": [],
   "source": [
    "inf_comp = ['#.of.postop.superficial.incisional.ssi',\n",
    "                '#.of.postop.deep.incisional.ssi', '#.of.postop.organ/space.ssi',\n",
    "                '#.of.postop.wound.disruption', '#.of.postop.pneumonia','#.of.postop.uti', '#.of.postop.c..diff', '#.of.postop.sepsis',\n",
    "                '#.of.postop.septic.shock','colectomy.postop.anastomotic.leak',]"
   ]
  },
  {
   "cell_type": "code",
   "execution_count": 20,
   "metadata": {},
   "outputs": [
    {
     "data": {
      "text/plain": [
       "0.0    935\n",
       "1.0    472\n",
       "Name: inf_comp, dtype: int64"
      ]
     },
     "execution_count": 20,
     "metadata": {},
     "output_type": "execute_result"
    }
   ],
   "source": [
    "data['inf_comp'] = np.NaN\n",
    "#if any of the complications are present, set any_comp to 1\n",
    "for col in inf_comp:\n",
    "    data.loc[data[col] != 0, 'inf_comp'] = 1\n",
    "data['inf_comp'].fillna(0, inplace=True)\n",
    "data['inf_comp'].value_counts(dropna=False)"
   ]
  },
  {
   "cell_type": "code",
   "execution_count": 21,
   "metadata": {},
   "outputs": [],
   "source": [
    "data.reset_index(inplace=True, drop=True)"
   ]
  },
  {
   "cell_type": "code",
   "execution_count": 22,
   "metadata": {},
   "outputs": [
    {
     "name": "stderr",
     "output_type": "stream",
     "text": [
      "/home/kchen/.local/lib/python3.8/site-packages/tableone/tableone.py:991: FutureWarning: Using the level keyword in DataFrame and Series aggregations is deprecated and will be removed in a future version. Use groupby instead. df.sum(level=1) should use df.groupby(level=1).sum().\n",
      "  df['percent'] = df['freq'].div(df.freq.sum(level=0),\n"
     ]
    }
   ],
   "source": [
    "comp2 = all_comp.copy()\n",
    "comp2.append('ileostomy.formation')\n",
    "comp2.append('inf_comp')\n",
    "data_comp = data[comp2]\n",
    "\n",
    "from tableone import TableOne\n",
    "tab1 = TableOne(data_comp, columns=all_comp, categorical=all_comp, groupby='ileostomy.formation', pval=True)\n",
    "tab1.to_excel('results/tab1_comps.xlsx')"
   ]
  },
  {
   "cell_type": "code",
   "execution_count": 23,
   "metadata": {},
   "outputs": [
    {
     "data": {
      "text/html": [
       "<div>\n",
       "<style scoped>\n",
       "    .dataframe tbody tr th:only-of-type {\n",
       "        vertical-align: middle;\n",
       "    }\n",
       "\n",
       "    .dataframe tbody tr th {\n",
       "        vertical-align: top;\n",
       "    }\n",
       "\n",
       "    .dataframe thead th {\n",
       "        text-align: right;\n",
       "    }\n",
       "</style>\n",
       "<table border=\"1\" class=\"dataframe\">\n",
       "  <thead>\n",
       "    <tr style=\"text-align: right;\">\n",
       "      <th></th>\n",
       "      <th>age.at.time.of.surgery</th>\n",
       "      <th>gender</th>\n",
       "      <th>race</th>\n",
       "      <th>hispanic.ethnicity</th>\n",
       "      <th>cpt.code</th>\n",
       "      <th>in/out-patient.status</th>\n",
       "      <th>elective.surgery</th>\n",
       "      <th>origin.status</th>\n",
       "      <th>height</th>\n",
       "      <th>weight</th>\n",
       "      <th>...</th>\n",
       "      <th>colectomy.malignancy,.pathologic.n.stage</th>\n",
       "      <th>colectomy.malignancy,.pathologic.m.stage</th>\n",
       "      <th>colectomy.number.of.nodes.evaluated</th>\n",
       "      <th>ileostomy.formation</th>\n",
       "      <th>biologic.agent.60.days.prior.to.surgery</th>\n",
       "      <th>immune.modulation.60.days.prior.to.surgery</th>\n",
       "      <th>colonic.dysplasia</th>\n",
       "      <th>malnourishment</th>\n",
       "      <th>any_comp</th>\n",
       "      <th>inf_comp</th>\n",
       "    </tr>\n",
       "  </thead>\n",
       "  <tbody>\n",
       "    <tr>\n",
       "      <th>0</th>\n",
       "      <td>28.82</td>\n",
       "      <td>Female</td>\n",
       "      <td>White</td>\n",
       "      <td>No</td>\n",
       "      <td>44160</td>\n",
       "      <td>Inpatient</td>\n",
       "      <td>No</td>\n",
       "      <td>Outside emergency department</td>\n",
       "      <td>177.80</td>\n",
       "      <td>113.00</td>\n",
       "      <td>...</td>\n",
       "      <td>NaN</td>\n",
       "      <td>NaN</td>\n",
       "      <td>6.0</td>\n",
       "      <td>Ileostomy</td>\n",
       "      <td>No</td>\n",
       "      <td>Yes</td>\n",
       "      <td>No Dysplasia</td>\n",
       "      <td>NaN</td>\n",
       "      <td>1.0</td>\n",
       "      <td>1.0</td>\n",
       "    </tr>\n",
       "    <tr>\n",
       "      <th>1</th>\n",
       "      <td>24.56</td>\n",
       "      <td>Female</td>\n",
       "      <td>White</td>\n",
       "      <td>No</td>\n",
       "      <td>44205</td>\n",
       "      <td>Inpatient</td>\n",
       "      <td>No</td>\n",
       "      <td>Not transferred (admitted from home)</td>\n",
       "      <td>162.56</td>\n",
       "      <td>88.20</td>\n",
       "      <td>...</td>\n",
       "      <td>NaN</td>\n",
       "      <td>NaN</td>\n",
       "      <td>9.0</td>\n",
       "      <td>None</td>\n",
       "      <td>Yes</td>\n",
       "      <td>No</td>\n",
       "      <td>No Dysplasia</td>\n",
       "      <td>NaN</td>\n",
       "      <td>0.0</td>\n",
       "      <td>0.0</td>\n",
       "    </tr>\n",
       "    <tr>\n",
       "      <th>2</th>\n",
       "      <td>21.40</td>\n",
       "      <td>Female</td>\n",
       "      <td>Black or African American</td>\n",
       "      <td>No</td>\n",
       "      <td>44160</td>\n",
       "      <td>Inpatient</td>\n",
       "      <td>No</td>\n",
       "      <td>Not transferred (admitted from home)</td>\n",
       "      <td>157.48</td>\n",
       "      <td>83.92</td>\n",
       "      <td>...</td>\n",
       "      <td>NaN</td>\n",
       "      <td>NaN</td>\n",
       "      <td>NaN</td>\n",
       "      <td>Ileostomy</td>\n",
       "      <td>Yes</td>\n",
       "      <td>No</td>\n",
       "      <td>No Dysplasia</td>\n",
       "      <td>NaN</td>\n",
       "      <td>1.0</td>\n",
       "      <td>1.0</td>\n",
       "    </tr>\n",
       "    <tr>\n",
       "      <th>3</th>\n",
       "      <td>59.18</td>\n",
       "      <td>Female</td>\n",
       "      <td>White</td>\n",
       "      <td>No</td>\n",
       "      <td>44160</td>\n",
       "      <td>Outpatient</td>\n",
       "      <td>Yes</td>\n",
       "      <td>Not transferred (admitted from home)</td>\n",
       "      <td>170.18</td>\n",
       "      <td>84.60</td>\n",
       "      <td>...</td>\n",
       "      <td>NaN</td>\n",
       "      <td>NaN</td>\n",
       "      <td>NaN</td>\n",
       "      <td>None</td>\n",
       "      <td>No</td>\n",
       "      <td>No</td>\n",
       "      <td>No Dysplasia</td>\n",
       "      <td>NaN</td>\n",
       "      <td>0.0</td>\n",
       "      <td>0.0</td>\n",
       "    </tr>\n",
       "    <tr>\n",
       "      <th>4</th>\n",
       "      <td>37.81</td>\n",
       "      <td>Female</td>\n",
       "      <td>White</td>\n",
       "      <td>No</td>\n",
       "      <td>44160</td>\n",
       "      <td>Inpatient</td>\n",
       "      <td>Yes</td>\n",
       "      <td>Not transferred (admitted from home)</td>\n",
       "      <td>167.64</td>\n",
       "      <td>64.90</td>\n",
       "      <td>...</td>\n",
       "      <td>NaN</td>\n",
       "      <td>NaN</td>\n",
       "      <td>5.0</td>\n",
       "      <td>None</td>\n",
       "      <td>Yes</td>\n",
       "      <td>Yes</td>\n",
       "      <td>No Dysplasia</td>\n",
       "      <td>NaN</td>\n",
       "      <td>0.0</td>\n",
       "      <td>0.0</td>\n",
       "    </tr>\n",
       "  </tbody>\n",
       "</table>\n",
       "<p>5 rows × 59 columns</p>\n",
       "</div>"
      ],
      "text/plain": [
       "   age.at.time.of.surgery  gender                       race  \\\n",
       "0                   28.82  Female                      White   \n",
       "1                   24.56  Female                      White   \n",
       "2                   21.40  Female  Black or African American   \n",
       "3                   59.18  Female                      White   \n",
       "4                   37.81  Female                      White   \n",
       "\n",
       "  hispanic.ethnicity  cpt.code in/out-patient.status elective.surgery  \\\n",
       "0                 No     44160             Inpatient               No   \n",
       "1                 No     44205             Inpatient               No   \n",
       "2                 No     44160             Inpatient               No   \n",
       "3                 No     44160            Outpatient              Yes   \n",
       "4                 No     44160             Inpatient              Yes   \n",
       "\n",
       "                          origin.status  height  weight  ...  \\\n",
       "0          Outside emergency department  177.80  113.00  ...   \n",
       "1  Not transferred (admitted from home)  162.56   88.20  ...   \n",
       "2  Not transferred (admitted from home)  157.48   83.92  ...   \n",
       "3  Not transferred (admitted from home)  170.18   84.60  ...   \n",
       "4  Not transferred (admitted from home)  167.64   64.90  ...   \n",
       "\n",
       "   colectomy.malignancy,.pathologic.n.stage  \\\n",
       "0                                       NaN   \n",
       "1                                       NaN   \n",
       "2                                       NaN   \n",
       "3                                       NaN   \n",
       "4                                       NaN   \n",
       "\n",
       "  colectomy.malignancy,.pathologic.m.stage  \\\n",
       "0                                      NaN   \n",
       "1                                      NaN   \n",
       "2                                      NaN   \n",
       "3                                      NaN   \n",
       "4                                      NaN   \n",
       "\n",
       "  colectomy.number.of.nodes.evaluated ileostomy.formation  \\\n",
       "0                                 6.0           Ileostomy   \n",
       "1                                 9.0                None   \n",
       "2                                 NaN           Ileostomy   \n",
       "3                                 NaN                None   \n",
       "4                                 5.0                None   \n",
       "\n",
       "  biologic.agent.60.days.prior.to.surgery  \\\n",
       "0                                      No   \n",
       "1                                     Yes   \n",
       "2                                     Yes   \n",
       "3                                      No   \n",
       "4                                     Yes   \n",
       "\n",
       "  immune.modulation.60.days.prior.to.surgery colonic.dysplasia malnourishment  \\\n",
       "0                                        Yes      No Dysplasia            NaN   \n",
       "1                                         No      No Dysplasia            NaN   \n",
       "2                                         No      No Dysplasia            NaN   \n",
       "3                                         No      No Dysplasia            NaN   \n",
       "4                                        Yes      No Dysplasia            NaN   \n",
       "\n",
       "  any_comp inf_comp  \n",
       "0      1.0      1.0  \n",
       "1      0.0      0.0  \n",
       "2      1.0      1.0  \n",
       "3      0.0      0.0  \n",
       "4      0.0      0.0  \n",
       "\n",
       "[5 rows x 59 columns]"
      ]
     },
     "execution_count": 23,
     "metadata": {},
     "output_type": "execute_result"
    }
   ],
   "source": [
    "#drop all the outcome columns\n",
    "data.drop(all_comp, axis=1, inplace=True)\n",
    "data.drop(others, axis=1, inplace=True)\n",
    "data.head()"
   ]
  },
  {
   "cell_type": "code",
   "execution_count": 24,
   "metadata": {},
   "outputs": [
    {
     "data": {
      "text/plain": [
       "(1407, 59)"
      ]
     },
     "execution_count": 24,
     "metadata": {},
     "output_type": "execute_result"
    }
   ],
   "source": [
    "data.shape"
   ]
  },
  {
   "cell_type": "code",
   "execution_count": 25,
   "metadata": {},
   "outputs": [
    {
     "data": {
      "text/plain": [
       "['colectomy.steroid/immunosuppressant.for.inflammatory.bowel',\n",
       " 'colectomy.mechanical.bowel.prep',\n",
       " 'colectomy.oral.antibiotic.prep',\n",
       " 'colectomy.chemotherapy.w/in.90.days',\n",
       " 'colectomy.primary.indication.for.surgery',\n",
       " 'colectomy.non-emergent.indication.icd10.code',\n",
       " 'colectomy.operative.approach',\n",
       " 'colectomy.malignancy,.pathologic.t.stage',\n",
       " 'colectomy.malignancy,.pathologic.n.stage',\n",
       " 'colectomy.malignancy,.pathologic.m.stage',\n",
       " 'colectomy.number.of.nodes.evaluated']"
      ]
     },
     "execution_count": 25,
     "metadata": {},
     "output_type": "execute_result"
    }
   ],
   "source": [
    "colec_cols = []\n",
    "for col in data.columns.to_list():\n",
    "    if 'colectomy' in col:\n",
    "        colec_cols.append(col)\n",
    "colec_cols"
   ]
  },
  {
   "cell_type": "code",
   "execution_count": 26,
   "metadata": {},
   "outputs": [
    {
     "name": "stdout",
     "output_type": "stream",
     "text": [
      "(1407, 52)\n"
     ]
    },
    {
     "data": {
      "text/html": [
       "<div>\n",
       "<style scoped>\n",
       "    .dataframe tbody tr th:only-of-type {\n",
       "        vertical-align: middle;\n",
       "    }\n",
       "\n",
       "    .dataframe tbody tr th {\n",
       "        vertical-align: top;\n",
       "    }\n",
       "\n",
       "    .dataframe thead th {\n",
       "        text-align: right;\n",
       "    }\n",
       "</style>\n",
       "<table border=\"1\" class=\"dataframe\">\n",
       "  <thead>\n",
       "    <tr style=\"text-align: right;\">\n",
       "      <th></th>\n",
       "      <th>age.at.time.of.surgery</th>\n",
       "      <th>gender</th>\n",
       "      <th>race</th>\n",
       "      <th>hispanic.ethnicity</th>\n",
       "      <th>cpt.code</th>\n",
       "      <th>in/out-patient.status</th>\n",
       "      <th>elective.surgery</th>\n",
       "      <th>origin.status</th>\n",
       "      <th>height</th>\n",
       "      <th>weight</th>\n",
       "      <th>...</th>\n",
       "      <th>colectomy.mechanical.bowel.prep</th>\n",
       "      <th>colectomy.oral.antibiotic.prep</th>\n",
       "      <th>colectomy.operative.approach</th>\n",
       "      <th>ileostomy.formation</th>\n",
       "      <th>biologic.agent.60.days.prior.to.surgery</th>\n",
       "      <th>immune.modulation.60.days.prior.to.surgery</th>\n",
       "      <th>colonic.dysplasia</th>\n",
       "      <th>malnourishment</th>\n",
       "      <th>any_comp</th>\n",
       "      <th>inf_comp</th>\n",
       "    </tr>\n",
       "  </thead>\n",
       "  <tbody>\n",
       "    <tr>\n",
       "      <th>0</th>\n",
       "      <td>28.82</td>\n",
       "      <td>Female</td>\n",
       "      <td>White</td>\n",
       "      <td>No</td>\n",
       "      <td>44160</td>\n",
       "      <td>Inpatient</td>\n",
       "      <td>No</td>\n",
       "      <td>Outside emergency department</td>\n",
       "      <td>177.80</td>\n",
       "      <td>113.00</td>\n",
       "      <td>...</td>\n",
       "      <td>No</td>\n",
       "      <td>No</td>\n",
       "      <td>Open</td>\n",
       "      <td>Ileostomy</td>\n",
       "      <td>No</td>\n",
       "      <td>Yes</td>\n",
       "      <td>No Dysplasia</td>\n",
       "      <td>NaN</td>\n",
       "      <td>1.0</td>\n",
       "      <td>1.0</td>\n",
       "    </tr>\n",
       "    <tr>\n",
       "      <th>1</th>\n",
       "      <td>24.56</td>\n",
       "      <td>Female</td>\n",
       "      <td>White</td>\n",
       "      <td>No</td>\n",
       "      <td>44205</td>\n",
       "      <td>Inpatient</td>\n",
       "      <td>No</td>\n",
       "      <td>Not transferred (admitted from home)</td>\n",
       "      <td>162.56</td>\n",
       "      <td>88.20</td>\n",
       "      <td>...</td>\n",
       "      <td>NaN</td>\n",
       "      <td>No</td>\n",
       "      <td>MIS</td>\n",
       "      <td>None</td>\n",
       "      <td>Yes</td>\n",
       "      <td>No</td>\n",
       "      <td>No Dysplasia</td>\n",
       "      <td>NaN</td>\n",
       "      <td>0.0</td>\n",
       "      <td>0.0</td>\n",
       "    </tr>\n",
       "    <tr>\n",
       "      <th>2</th>\n",
       "      <td>21.40</td>\n",
       "      <td>Female</td>\n",
       "      <td>Black or African American</td>\n",
       "      <td>No</td>\n",
       "      <td>44160</td>\n",
       "      <td>Inpatient</td>\n",
       "      <td>No</td>\n",
       "      <td>Not transferred (admitted from home)</td>\n",
       "      <td>157.48</td>\n",
       "      <td>83.92</td>\n",
       "      <td>...</td>\n",
       "      <td>No</td>\n",
       "      <td>No</td>\n",
       "      <td>Open</td>\n",
       "      <td>Ileostomy</td>\n",
       "      <td>Yes</td>\n",
       "      <td>No</td>\n",
       "      <td>No Dysplasia</td>\n",
       "      <td>NaN</td>\n",
       "      <td>1.0</td>\n",
       "      <td>1.0</td>\n",
       "    </tr>\n",
       "    <tr>\n",
       "      <th>3</th>\n",
       "      <td>59.18</td>\n",
       "      <td>Female</td>\n",
       "      <td>White</td>\n",
       "      <td>No</td>\n",
       "      <td>44160</td>\n",
       "      <td>Outpatient</td>\n",
       "      <td>Yes</td>\n",
       "      <td>Not transferred (admitted from home)</td>\n",
       "      <td>170.18</td>\n",
       "      <td>84.60</td>\n",
       "      <td>...</td>\n",
       "      <td>No</td>\n",
       "      <td>No</td>\n",
       "      <td>MIS, unplanned conversion to open</td>\n",
       "      <td>None</td>\n",
       "      <td>No</td>\n",
       "      <td>No</td>\n",
       "      <td>No Dysplasia</td>\n",
       "      <td>NaN</td>\n",
       "      <td>0.0</td>\n",
       "      <td>0.0</td>\n",
       "    </tr>\n",
       "    <tr>\n",
       "      <th>4</th>\n",
       "      <td>37.81</td>\n",
       "      <td>Female</td>\n",
       "      <td>White</td>\n",
       "      <td>No</td>\n",
       "      <td>44160</td>\n",
       "      <td>Inpatient</td>\n",
       "      <td>Yes</td>\n",
       "      <td>Not transferred (admitted from home)</td>\n",
       "      <td>167.64</td>\n",
       "      <td>64.90</td>\n",
       "      <td>...</td>\n",
       "      <td>Yes</td>\n",
       "      <td>Yes</td>\n",
       "      <td>Open</td>\n",
       "      <td>None</td>\n",
       "      <td>Yes</td>\n",
       "      <td>Yes</td>\n",
       "      <td>No Dysplasia</td>\n",
       "      <td>NaN</td>\n",
       "      <td>0.0</td>\n",
       "      <td>0.0</td>\n",
       "    </tr>\n",
       "  </tbody>\n",
       "</table>\n",
       "<p>5 rows × 52 columns</p>\n",
       "</div>"
      ],
      "text/plain": [
       "   age.at.time.of.surgery  gender                       race  \\\n",
       "0                   28.82  Female                      White   \n",
       "1                   24.56  Female                      White   \n",
       "2                   21.40  Female  Black or African American   \n",
       "3                   59.18  Female                      White   \n",
       "4                   37.81  Female                      White   \n",
       "\n",
       "  hispanic.ethnicity  cpt.code in/out-patient.status elective.surgery  \\\n",
       "0                 No     44160             Inpatient               No   \n",
       "1                 No     44205             Inpatient               No   \n",
       "2                 No     44160             Inpatient               No   \n",
       "3                 No     44160            Outpatient              Yes   \n",
       "4                 No     44160             Inpatient              Yes   \n",
       "\n",
       "                          origin.status  height  weight  ...  \\\n",
       "0          Outside emergency department  177.80  113.00  ...   \n",
       "1  Not transferred (admitted from home)  162.56   88.20  ...   \n",
       "2  Not transferred (admitted from home)  157.48   83.92  ...   \n",
       "3  Not transferred (admitted from home)  170.18   84.60  ...   \n",
       "4  Not transferred (admitted from home)  167.64   64.90  ...   \n",
       "\n",
       "   colectomy.mechanical.bowel.prep colectomy.oral.antibiotic.prep  \\\n",
       "0                               No                             No   \n",
       "1                              NaN                             No   \n",
       "2                               No                             No   \n",
       "3                               No                             No   \n",
       "4                              Yes                            Yes   \n",
       "\n",
       "        colectomy.operative.approach ileostomy.formation  \\\n",
       "0                               Open           Ileostomy   \n",
       "1                                MIS                None   \n",
       "2                               Open           Ileostomy   \n",
       "3  MIS, unplanned conversion to open                None   \n",
       "4                               Open                None   \n",
       "\n",
       "  biologic.agent.60.days.prior.to.surgery  \\\n",
       "0                                      No   \n",
       "1                                     Yes   \n",
       "2                                     Yes   \n",
       "3                                      No   \n",
       "4                                     Yes   \n",
       "\n",
       "  immune.modulation.60.days.prior.to.surgery colonic.dysplasia malnourishment  \\\n",
       "0                                        Yes      No Dysplasia            NaN   \n",
       "1                                         No      No Dysplasia            NaN   \n",
       "2                                         No      No Dysplasia            NaN   \n",
       "3                                         No      No Dysplasia            NaN   \n",
       "4                                        Yes      No Dysplasia            NaN   \n",
       "\n",
       "  any_comp inf_comp  \n",
       "0      1.0      1.0  \n",
       "1      0.0      0.0  \n",
       "2      1.0      1.0  \n",
       "3      0.0      0.0  \n",
       "4      0.0      0.0  \n",
       "\n",
       "[5 rows x 52 columns]"
      ]
     },
     "execution_count": 26,
     "metadata": {},
     "output_type": "execute_result"
    }
   ],
   "source": [
    "drop_cols = [\n",
    " 'colectomy.chemotherapy.w/in.90.days',\n",
    " 'colectomy.primary.indication.for.surgery',\n",
    " 'colectomy.non-emergent.indication.icd10.code',\n",
    " 'colectomy.malignancy,.pathologic.t.stage',\n",
    " 'colectomy.malignancy,.pathologic.n.stage',\n",
    " 'colectomy.malignancy,.pathologic.m.stage',\n",
    " 'colectomy.number.of.nodes.evaluated']\n",
    "data.drop(drop_cols, axis=1, inplace=True)\n",
    "print(data.shape)\n",
    "data.head()"
   ]
  },
  {
   "cell_type": "code",
   "execution_count": 27,
   "metadata": {},
   "outputs": [],
   "source": [
    "data.to_csv('data/outcome_data.csv', index=False)"
   ]
  },
  {
   "cell_type": "code",
   "execution_count": 29,
   "metadata": {},
   "outputs": [],
   "source": [
    "cat_cols = ['gender',\n",
    "'race', 'hispanic.ethnicity', 'cpt.code','in/out-patient.status',\n",
    "'elective.surgery', 'origin.status', 'diabetes.mellitus', 'current.smoker.within.1.year', 'dyspnea',\n",
    "'functional.heath.status', 'ventilator.dependent',\n",
    "'history.of.severe.copd', 'ascites.w/in.30.days.prior.to.surgery',\n",
    "'congestive.heart.failure.w/in.30.days.prior.to.surgery',\n",
    "'hypertension.requiring.medication', 'acute.renal.failure',\n",
    "'currently.requiring.or.on.dialysis', 'disseminated.cancer',\n",
    "'open.wound.with.or.without.infection',\n",
    "'steroid/immunosuppressant.use.for.chronic.condition',\n",
    "'>10%.loss.of.body.weight.in.the.6.months.prior.to.surgery',\n",
    "'bleeding.disorder',\n",
    "'preop.transfusions.(rbc.w/in.72.hrs.prior.to.surgery.start.time)',\n",
    "'sepsis.(sirs/sepsis/septic.shock).(48h)','emergency.case', 'wound.classification', 'asa.classification',\n",
    "'#.of.other.procedures', '#.of.concurrent.procedures',\n",
    "'colectomy.steroid/immunosuppressant.for.inflammatory.bowel',\n",
    "'colectomy.mechanical.bowel.prep', 'colectomy.oral.antibiotic.prep',\n",
    "'colectomy.chemotherapy.w/in.90.days',\n",
    "'colectomy.primary.indication.for.surgery',\n",
    "'colectomy.non-emergent.indication.icd10.code',\n",
    "'colectomy.operative.approach',\n",
    "\n",
    "'biologic.agent.60.days.prior.to.surgery',\n",
    "'immune.modulation.60.days.prior.to.surgery', 'colonic.dysplasia',\n",
    "'malnourishment']"
   ]
  },
  {
   "cell_type": "code",
   "execution_count": 30,
   "metadata": {},
   "outputs": [
    {
     "data": {
      "text/plain": [
       "37"
      ]
     },
     "execution_count": 30,
     "metadata": {},
     "output_type": "execute_result"
    }
   ],
   "source": [
    "new_cols = []\n",
    "for col in cat_cols:\n",
    "    if col in data.columns:\n",
    "        new_cols.append(col)\n",
    "len(new_cols)"
   ]
  },
  {
   "cell_type": "code",
   "execution_count": 35,
   "metadata": {},
   "outputs": [
    {
     "data": {
      "text/plain": [
       "15"
      ]
     },
     "execution_count": 35,
     "metadata": {},
     "output_type": "execute_result"
    }
   ],
   "source": [
    "#num_cols is the list of numeric columns\n",
    "num_cols = []\n",
    "for col in data.columns:\n",
    "    if col not in new_cols:\n",
    "        num_cols.append(col)\n",
    "len(num_cols)"
   ]
  },
  {
   "cell_type": "code",
   "execution_count": 39,
   "metadata": {},
   "outputs": [],
   "source": [
    "new_cols.append('ileostomy.formation')"
   ]
  },
  {
   "cell_type": "code",
   "execution_count": 37,
   "metadata": {},
   "outputs": [
    {
     "data": {
      "text/plain": [
       "['age.at.time.of.surgery',\n",
       " 'height',\n",
       " 'weight',\n",
       " 'bmi',\n",
       " 'serum.sodium',\n",
       " 'bun',\n",
       " 'serum.creatinine',\n",
       " 'albumin',\n",
       " 'wbc',\n",
       " 'hematocrit',\n",
       " 'platelet.count',\n",
       " 'duration.of.surgical.procedure.(in.minutes)',\n",
       " 'ileostomy.formation',\n",
       " 'any_comp',\n",
       " 'inf_comp']"
      ]
     },
     "execution_count": 37,
     "metadata": {},
     "output_type": "execute_result"
    }
   ],
   "source": [
    "num_cols.re"
   ]
  },
  {
   "cell_type": "code",
   "execution_count": 40,
   "metadata": {},
   "outputs": [
    {
     "name": "stderr",
     "output_type": "stream",
     "text": [
      "/home/kchen/.local/lib/python3.8/site-packages/tableone/tableone.py:991: FutureWarning: Using the level keyword in DataFrame and Series aggregations is deprecated and will be removed in a future version. Use groupby instead. df.sum(level=1) should use df.groupby(level=1).sum().\n",
      "  df['percent'] = df['freq'].div(df.freq.sum(level=0),\n",
      "/home/kchen/.local/lib/python3.8/site-packages/tableone/tableone.py:991: FutureWarning: Using the level keyword in DataFrame and Series aggregations is deprecated and will be removed in a future version. Use groupby instead. df.sum(level=1) should use df.groupby(level=1).sum().\n",
      "  df['percent'] = df['freq'].div(df.freq.sum(level=0),\n"
     ]
    }
   ],
   "source": [
    "table1 = TableOne(data, categorical=new_cols, groupby='inf_comp', pval=True)\n",
    "table1.to_excel('results/table1_inf.xlsx')"
   ]
  },
  {
   "cell_type": "code",
   "execution_count": null,
   "metadata": {},
   "outputs": [],
   "source": []
  }
 ],
 "metadata": {
  "kernelspec": {
   "display_name": "Python 3",
   "language": "python",
   "name": "python3"
  },
  "language_info": {
   "codemirror_mode": {
    "name": "ipython",
    "version": 3
   },
   "file_extension": ".py",
   "mimetype": "text/x-python",
   "name": "python",
   "nbconvert_exporter": "python",
   "pygments_lexer": "ipython3",
   "version": "3.8.10"
  },
  "orig_nbformat": 4,
  "vscode": {
   "interpreter": {
    "hash": "916dbcbb3f70747c44a77c7bcd40155683ae19c65e1c03b4aa3499c5328201f1"
   }
  }
 },
 "nbformat": 4,
 "nbformat_minor": 2
}
