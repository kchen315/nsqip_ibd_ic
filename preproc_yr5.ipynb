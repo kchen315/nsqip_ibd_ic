{
 "cells": [
  {
   "cell_type": "code",
   "execution_count": 120,
   "metadata": {},
   "outputs": [],
   "source": [
    "import pandas as pd\n",
    "import numpy as np\n",
    "import matplotlib.pyplot as plt\n",
    "#show more columns\n",
    "pd.set_option('display.max_columns', None)"
   ]
  },
  {
   "cell_type": "code",
   "execution_count": 121,
   "metadata": {},
   "outputs": [
    {
     "name": "stdout",
     "output_type": "stream",
     "text": [
      "(1339, 236)\n"
     ]
    }
   ],
   "source": [
    "data = pd.read_csv('data/IBD NSQIP Year 5 merged v1.csv',na_values='Unknown')\n",
    "print(data.shape)\n",
    "#data.head()"
   ]
  },
  {
   "cell_type": "code",
   "execution_count": 122,
   "metadata": {},
   "outputs": [
    {
     "data": {
      "text/plain": [
       "['case.number',\n",
       " 'completion.status',\n",
       " 'date.of.birth',\n",
       " 'age.at.time.of.surgery',\n",
       " 'gender',\n",
       " 'race',\n",
       " 'hispanic.ethnicity',\n",
       " 'cpt.code',\n",
       " 'cpt.description',\n",
       " 'principal.operative.procedure',\n",
       " 'in.out.patient.status',\n",
       " 'elective.surgery',\n",
       " 'origin.status',\n",
       " 'hospital.admission.date',\n",
       " 'operation.date',\n",
       " 'principal.anesthesia.technique',\n",
       " 'additional.anesthesia.technique.s.',\n",
       " 'surgical.specialty',\n",
       " 'height',\n",
       " 'height.unit',\n",
       " 'height.unknown',\n",
       " 'weight',\n",
       " 'weight.unit',\n",
       " 'weight.unknown',\n",
       " 'bmi',\n",
       " 'diabetes.mellitus',\n",
       " 'current.smoker.within.1.year',\n",
       " 'dyspnea',\n",
       " 'functional.heath.status',\n",
       " 'ventilator.dependent',\n",
       " 'history.of.severe.copd',\n",
       " 'ascites.w.in.30.days.prior.to.surgery',\n",
       " 'congestive.heart.failure.w.in.30.days.prior.to.surgery',\n",
       " 'hypertension.requiring.medication',\n",
       " 'acute.renal.failure',\n",
       " 'currently.requiring.or.on.dialysis',\n",
       " 'disseminated.cancer',\n",
       " 'open.wound.with.or.without.infection',\n",
       " 'steroid.immunosuppressant.use.for.chronic.condition',\n",
       " 'malnourishment',\n",
       " 'bleeding.disorder',\n",
       " 'preop.transfusions..rbc.w.in.72.hrs.prior.to.surgery.start.time.',\n",
       " 'sepsis..sirs.sepsis.septic.shock...48h.',\n",
       " 'all.pre.op.labs.unknown',\n",
       " 'serum.sodium',\n",
       " 'serum.sodium.date',\n",
       " 'bun',\n",
       " 'bun.date',\n",
       " 'serum.creatinine',\n",
       " 'serum.creatinine.date',\n",
       " 'albumin',\n",
       " 'albumin.date',\n",
       " 'total.bilirubin',\n",
       " 'total.bilirubin.date',\n",
       " 'ast.sgot',\n",
       " 'ast.sgot.date',\n",
       " 'alkaline.phosphatase',\n",
       " 'alkaline.phosphatase.date',\n",
       " 'wbc',\n",
       " 'wbc.date',\n",
       " 'hematocrit',\n",
       " 'hematocrit.date',\n",
       " 'platelet.count',\n",
       " 'platelet.count.date',\n",
       " 'inr',\n",
       " 'inr.date',\n",
       " 'ptt',\n",
       " 'ptt.date',\n",
       " 'emergency.case',\n",
       " 'wound.classification',\n",
       " 'surgical.wound.s..closure',\n",
       " 'asa.classification',\n",
       " 'procedure.surgery.start',\n",
       " 'procedure.surgery.finish',\n",
       " 'duration.of.surgical.procedure..in.minutes.',\n",
       " 'x..of.other.procedures',\n",
       " 'other.procedures.cpt',\n",
       " 'x..of.concurrent.procedures',\n",
       " 'concurrent.procedures.cpt',\n",
       " 'x..of.postop.superficial.incisional.ssi',\n",
       " 'x..of.postop.superficial.incisional.ssi.patos',\n",
       " 'x..of.postop.deep.incisional.ssi',\n",
       " 'x..of.postop.deep.incisional.ssi.patos',\n",
       " 'x..of.postop.organ.space.ssi',\n",
       " 'x..of.postop.organ.space.ssi.patos',\n",
       " 'x..of.postop.wound.disruption',\n",
       " 'x..of.postop.pneumonia',\n",
       " 'x..of.postop.pneumonia.patos',\n",
       " 'x..of.postop.unplanned.intubation',\n",
       " 'x..of.postop.pulmonary.embolism',\n",
       " 'x..of.postop.on.ventilator...48.hours',\n",
       " 'x..of.postop.on.ventilator...48.hours.patos',\n",
       " 'x..of.postop.progressive.renal.insufficiency',\n",
       " 'x..of.postop.acute.renal.failure',\n",
       " 'x..of.postop.uti',\n",
       " 'x..of.postop.uti.patos',\n",
       " 'x..of.postop.cva',\n",
       " 'x..of.postop.cardiac.arrest.requiring.cpr',\n",
       " 'x..of.postop.myocardial.infarction',\n",
       " 'x..of.postop.transfusion.intraop..postop..72h.of.surgery.start.time.',\n",
       " 'total.blood.transfused..in.units.',\n",
       " 'x..of.postop.vein.thrombosis.requiring.therapy',\n",
       " 'x..of.postop.c..diff',\n",
       " 'type.of.c..diff.test.performed',\n",
       " 'result.of.c..diff.test',\n",
       " 'was.patient.given.treatment.for.c..diff.',\n",
       " 'did.patient.with.c..diff.have.diarrhea.loose.stools.',\n",
       " 'x..of.postop.sepsis',\n",
       " 'x..of.postop.sepsis.patos',\n",
       " 'x..of.postop.septic.shock',\n",
       " 'x..of.postop.septic.shock.patos',\n",
       " 'x..of.postop.other.occurrences',\n",
       " 'acute.hospital.discharge.date',\n",
       " 'hospital.length.of.stay',\n",
       " 'hospital.discharge.destination',\n",
       " 'postoperative.icd9.code',\n",
       " 'postoperative.icd9.description',\n",
       " 'postoperative.icd10.code',\n",
       " 'postoperative.icd10.description',\n",
       " 'still.in.hospital..30.days',\n",
       " 'postop.death.w.in.30.days.of.procedure',\n",
       " 'postoperative.death...30.days.of.procedure',\n",
       " 'date.of.death',\n",
       " 'date.of.death.unknown',\n",
       " 'end.of.life.withdrawal.of.care',\n",
       " 'x..of.readmissions.w.in.30.days',\n",
       " 'date.of.first.readmission',\n",
       " 'x..of.unplanned.readmissions',\n",
       " 'x..of.readmissions.likely.related.to.principal.procedure',\n",
       " 'x..of.readmissions.likely.unrelated.to.principal.procedure',\n",
       " 'first.unplanned.return.to.or',\n",
       " 'date..of.first.unplanned.return.to.or',\n",
       " 'x..of.first.unplanned.return.procedures',\n",
       " 'first.unplanned.return.cpt',\n",
       " 'first.unplanned.return.related.to.principal.procedure',\n",
       " 'second.unplanned.return.to.or',\n",
       " 'date.of.second.unplanned.return',\n",
       " 'x..of.second.unplanned.return.procedures',\n",
       " 'second.unplanned.return.cpt',\n",
       " 'second.unplanned.return.related.to.principal.procedure',\n",
       " 'more.than.2.unplanned.returns.to.or',\n",
       " 'erin.pre.admission.counseling',\n",
       " 'erin.allow.clear.liquids.up.to.3.hrs.before.induction',\n",
       " 'erin.use.of.thoracic.epidural.anesthesia.for.open.surgery',\n",
       " 'erin.use.of.multi.modal.pain.management',\n",
       " 'erin.normal.temperature.on.arrival.to.pacu',\n",
       " 'erin.use.of.goal.directed.therapy',\n",
       " 'erin.intraoperative.crystalloid.administered',\n",
       " 'erin.intraoperative.colloid.administered',\n",
       " 'erin.use.of.anti.emetic.prophylaxis',\n",
       " 'erin.mobilization.once.pod..0',\n",
       " 'erin.patient.was.given.clear.liquids.on.pod..0',\n",
       " 'erin.iv.fluids.discontinued.pod..0',\n",
       " 'erin.mobilization.bid.pod..1',\n",
       " 'erin.solids.given.pod..1',\n",
       " 'erin.foley.removed.on.before.pod..1',\n",
       " 'erin.mobilization.bid.pod..2',\n",
       " 'erin.date.of.return.of.bowel.function',\n",
       " 'erin.date.tolerating.diet',\n",
       " 'erin.date.pain.controlled.with.po.medication',\n",
       " 'erin.comments',\n",
       " 'colectomy.steroid.immunosuppressant.for.inflammatory.bowel',\n",
       " 'colectomy.steroid.immunosuppressant.for.inflammatory.bowel.unknown',\n",
       " 'colectomy.mechanical.bowel.prep',\n",
       " 'colectomy.mechanical.bowel.prep.unknown',\n",
       " 'colectomy.oral.antibiotic.prep',\n",
       " 'colectomy.oral.antibiotic.prep.unknown',\n",
       " 'colectomy.chemotherapy.w.in.90.days',\n",
       " 'colectomy.chemotherapy.w.in.90.days.unknown',\n",
       " 'colectomy.primary.indication.for.surgery',\n",
       " 'colectomy.non.emergent.indication.icd9.code',\n",
       " 'colectomy.non.emergent.indication.icd10.code',\n",
       " 'colectomy.indication.for.surgery.if.emergent',\n",
       " 'colectomy.emergent.indication.icd9.code',\n",
       " 'colectomy.emergent.indication.icd10.code',\n",
       " 'colectomy.operative.approach',\n",
       " 'colectomy.malignancy..pathologic.t.stage',\n",
       " 'colectomy.malignancy..pathologic.n.stage',\n",
       " 'colectomy.malignancy..pathologic.m.stage',\n",
       " 'colectomy.number.of.nodes.evaluated',\n",
       " 'colectomy.number.of.nodes.evaluated.unknown',\n",
       " 'colectomy.number.of.nodes.evaluated.n.a',\n",
       " 'colectomy.postop.anastomotic.leak',\n",
       " 'colectomy.prolonged.postoperative.npo.or.ngt.use',\n",
       " 'colectomy.prolonged.postoperative.npo.or.ngt.use.unknown',\n",
       " 'proctectomy.preop.tumor.location',\n",
       " 'proctectomy.preop.chemotherapy.within.90.days',\n",
       " 'proctectomy.preop.chemotherapy.within.90.days.unknown',\n",
       " 'proctectomy.preop.radiation.therapy.within.90.days',\n",
       " 'proctectomy.preop.radiation.therapy.within.90.days.unknown',\n",
       " 'proctectomy.pretreatment.clinical.staging.primary.tumor..t.',\n",
       " 'proctectomy.pretreatment.clinical.staging.regional.lymph.nodes..n.',\n",
       " 'proctectomy.pretreatment.clinical.staging.distant.metastasis..m.',\n",
       " 'proctectomy.preop.complete.evaluation.of.the.colon',\n",
       " 'proctectomy.preop.patient.marked.for.stoma',\n",
       " 'proctectomy.pathologic.staging.primary.tumor..t.',\n",
       " 'proctectomy.pathologic.staging.regional.lymph.nodes..n.',\n",
       " 'proctectomy.number.of.nodes.evaluated',\n",
       " 'proctectomy.number.of.nodes.evaluated.unknown',\n",
       " 'proctectomy.number.of.nodes.evaluated.n.a',\n",
       " 'proctectomy.pathologic.staging.distant.metastasis..m.',\n",
       " 'proctectomy.margins.radial',\n",
       " 'proctectomy.clear.radial.margin..in.cm.',\n",
       " 'proctectomy.clear.radial.margin.unknown',\n",
       " 'proctectomy.margins.distal',\n",
       " 'proctectomy.clear.distal.margin..in.cm.',\n",
       " 'proctectomy.clear.distal.margin.unknown',\n",
       " 'proctectomy.operative.approach',\n",
       " 'proctectomy.postop.anastomotic.leak',\n",
       " 'proctectomy.prolonged.postoperative.npo.or.ngt.use',\n",
       " 'proctectomy.prolonged.postoperative.npo.or.ngt.use.unknown',\n",
       " 'x30.day.f.u.complete',\n",
       " 'follow.up.days',\n",
       " 'x..contact.attempts.phone',\n",
       " 'x..contact.attempts.letter',\n",
       " 'contact..documentation',\n",
       " 'contact..other',\n",
       " 'preop_cardiology_consult',\n",
       " 'postop_cardiology_consult',\n",
       " 'ileostomy.formation',\n",
       " 'biologic.agent.60.days.prior.to.surgery',\n",
       " 'immune.modulation.60.days.prior.to.surgery',\n",
       " 'ileal.pouch.anastomosis',\n",
       " 'colonic.dysplasia',\n",
       " 'qiti.pgy',\n",
       " 'ipaa.created.for.proctectomy.patient',\n",
       " 'if.biologic.agent.given..select.therapy.used',\n",
       " 'if.immune.modulation.taken..select.therapy.used',\n",
       " 'dvt.location',\n",
       " 'x30.day.bleeding.requiring.transfusion',\n",
       " 'x30.day.bleeding.requiring.a.secondary.procedure',\n",
       " 'inpatient.dvt.chemoprophylaxis',\n",
       " 'discharge.dvt.chemoprophylaxis',\n",
       " 'length.of.time.on.primary.dvt.chemoprophylactic',\n",
       " 'site',\n",
       " 'year']"
      ]
     },
     "execution_count": 122,
     "metadata": {},
     "output_type": "execute_result"
    }
   ],
   "source": [
    "list(data.columns)"
   ]
  },
  {
   "cell_type": "code",
   "execution_count": 123,
   "metadata": {},
   "outputs": [
    {
     "name": "stdout",
     "output_type": "stream",
     "text": [
      "(374, 236)\n",
      "(280, 236)\n"
     ]
    }
   ],
   "source": [
    "#subset to only CPT code 44205 or 44160\n",
    "data = data.loc[data['cpt.code'].isin([44205,44160]) | data['cpt.code'].isin(['44205','44160'])]\n",
    "print(data.shape)\n",
    "#drop all observations that have 'ileostomy.formation' set to missing\n",
    "data = data.dropna(subset=['ileostomy.formation'])\n",
    "print(data.shape)\n"
   ]
  },
  {
   "cell_type": "code",
   "execution_count": 124,
   "metadata": {},
   "outputs": [
    {
     "data": {
      "text/plain": [
       "Crohn's Disease                     256\n",
       "Colon cancer                          8\n",
       "Ulcerative colitis                    5\n",
       "Other-Enter ICD-10 for diagnosis      5\n",
       "Chronic diverticular disease          4\n",
       "Colon cancer w/ obstruction           1\n",
       "Non-malignant polyp                   1\n",
       "Name: colectomy.primary.indication.for.surgery, dtype: int64"
      ]
     },
     "execution_count": 124,
     "metadata": {},
     "output_type": "execute_result"
    }
   ],
   "source": [
    "data['colectomy.primary.indication.for.surgery'].value_counts()"
   ]
  },
  {
   "cell_type": "code",
   "execution_count": 125,
   "metadata": {},
   "outputs": [
    {
     "name": "stdout",
     "output_type": "stream",
     "text": [
      "(256, 236)\n"
     ]
    }
   ],
   "source": [
    "#Only want Crohn's disease\n",
    "data = data.loc[data['colectomy.primary.indication.for.surgery'].isin([\"Crohn's Disease\"])]\n",
    "print(data.shape)\n"
   ]
  },
  {
   "cell_type": "code",
   "execution_count": 126,
   "metadata": {},
   "outputs": [],
   "source": [
    "#combine colectomy.operative.approach categories\n",
    "data['colectomy.operative.approach'] = data['colectomy.operative.approach'].replace({'Endoscopic w/ unplanned conversion to open':'MIS unplanned conversion to open','Hybrid':'MIS','Laparoscopic':'MIS','Laparoscopic w/ open assist':'MIS','Laparoscopic w/ unplanned conversion to open':'MIS, unplanned conversion to open','Open (planned)':'Open','Robotic':'MIS','Robotic w/ open assist':'MIS','Robotic w/ unplanned conversion to open':'MIS, unplanned conversion to open','SILS':'MIS','SILS w/ unplanned conversion to open':'MIS'})\n",
    "#binarize 'ileostomy.formation' outcomes\n",
    "data['ileostomy.formation'] = data['ileostomy.formation'].replace({'New ileostomy':'Ileostomy','Other ileostomy revision':'Ileostomy','Conversion of end ileostomy to loop':'Ileostomy','Ileostomy from prior is unaltered':'Ileostomy'})\n"
   ]
  },
  {
   "cell_type": "code",
   "execution_count": 127,
   "metadata": {},
   "outputs": [
    {
     "name": "stderr",
     "output_type": "stream",
     "text": [
      "/tmp/ipykernel_3706035/3933278702.py:5: SettingWithCopyWarning: \n",
      "A value is trying to be set on a copy of a slice from a DataFrame\n",
      "\n",
      "See the caveats in the documentation: https://pandas.pydata.org/pandas-docs/stable/user_guide/indexing.html#returning-a-view-versus-a-copy\n",
      "  data['height'][x] = data['height'][x] * 2.54\n"
     ]
    }
   ],
   "source": [
    "#if 'height.unit' is 'in', convert to 'cm' | if 'weight.unit' is 'lb', convert to 'kg'\n",
    "#get height and weight to the correct units\n",
    "for x in data.index:\n",
    "    if data['height.unit'][x] == 'in':\n",
    "        data['height'][x] = data['height'][x] * 2.54\n",
    "    if data['weight.unit'][x] == 'lb':\n",
    "        data['weight'][x] = data['weight'][x] * 0.453592"
   ]
  },
  {
   "cell_type": "code",
   "execution_count": 128,
   "metadata": {},
   "outputs": [
    {
     "data": {
      "text/plain": [
       "None         200\n",
       "Ileostomy     56\n",
       "Name: ileostomy.formation, dtype: int64"
      ]
     },
     "execution_count": 128,
     "metadata": {},
     "output_type": "execute_result"
    }
   ],
   "source": [
    "# there is an outcome called 'ibd_ileost' that wasn't addressed in preproc.ipynb\n",
    "# guess we'll call it ileostomy\n",
    "data['ileostomy.formation'] = data['ileostomy.formation'].replace({'ibd_ileost':'Ileostomy'})\n",
    "data['ileostomy.formation'].value_counts()"
   ]
  },
  {
   "cell_type": "code",
   "execution_count": 129,
   "metadata": {},
   "outputs": [
    {
     "data": {
      "text/plain": [
       "MIS                                  47\n",
       "Open                                 13\n",
       "MIS, unplanned conversion to open     6\n",
       "Name: colectomy.operative.approach, dtype: int64"
      ]
     },
     "execution_count": 129,
     "metadata": {},
     "output_type": "execute_result"
    }
   ],
   "source": [
    "data['colectomy.operative.approach'].value_counts()"
   ]
  },
  {
   "cell_type": "code",
   "execution_count": 130,
   "metadata": {},
   "outputs": [
    {
     "data": {
      "text/plain": [
       "NaN                                  190\n",
       "MIS                                   47\n",
       "Open                                  13\n",
       "MIS, unplanned conversion to open      6\n",
       "Name: colectomy.operative.approach, dtype: int64"
      ]
     },
     "execution_count": 130,
     "metadata": {},
     "output_type": "execute_result"
    }
   ],
   "source": [
    "# large amount of NA in the 'colectomy.operative.approach'\n",
    "data['colectomy.operative.approach'].value_counts(dropna=False)"
   ]
  },
  {
   "cell_type": "code",
   "execution_count": 141,
   "metadata": {},
   "outputs": [],
   "source": [
    "#renaming columns\n",
    "data.columns = data.columns.str.replace('surgical.wound.s..closure','surgical.wound(s).closure',regex=False)\n",
    "data.columns = data.columns.str.replace('sepsis,.sirs.sepsis.septic.shock.>.48h.','sepsis.(sirs/sepsis/septic.shock).(48h)',regex=False)\n",
    "data.columns = data.columns.str.replace('duration.of.surgical.procedure,.in.minutes.','duration.of.surgical.procedure.(in.minutes)',regex=False)\n",
    "data.columns = data.columns.str.replace('#.of.postop.transfusion.intraop,.postop,.72h.of.surgery.start.time.','#.of.postop.transfusion.intraop/.postop.(72h.of.surgery.start.time)',regex=False)\n",
    "data.columns = data.columns.str.replace('x.','#',regex=False)\n",
    "data.columns = data.columns.str.replace('w.in','w/in',regex=False)\n",
    "data.columns = data.columns.str.replace('...','.>.',regex=False)\n",
    "data.columns = data.columns.str.replace('..',',.',regex=False)\n",
    "data.columns = data.columns.str.replace('procedure.surgery','procedure/surgery',regex=False)\n",
    "data.columns = data.columns.str.replace('organ.space','organ/space',regex=False)\n",
    "data.columns = data.columns.str.replace('steroid.immunosuppressant','steroid/immunosuppressant',regex=False)\n",
    "data.columns = data.columns.str.replace('in.out.patient.status','in/out-patient.status',regex=False)\n",
    "data.columns = data.columns.str.replace('preop.transfusions,.rbc.w/in.72.hrs.prior.to.surgery.start.time.','preop.transfusions.(rbc.w/in.72.hrs.prior.to.surgery.start.time)',regex=False)\n",
    "data.columns = data.columns.str.replace('ast.sgot','ast/sgot',regex=False)\n",
    "data.columns = data.columns.str.replace('#.of.postop.transfusion.intraop..postop..72h.of.surgery.start.time.','#.of.postop.transfusion.intraop/.postop.(72h.of.surgery.start.time)',regex=False)\n",
    "data.columns = data.columns.str.replace('preop.transfusions..rbc.w/in.72.hrs.prior.to.surgery.start.time.','preop.transfusions.(rbc.w/in.72.hrs.prior.to.surgery.start.time)',regex=False)\n",
    "data.columns = data.columns.str.replace('#.of.postop.c,.diff','#.of.postop.c..diff',regex=False)\n",
    "data.columns = data.columns.str.replace('colectomy.non.emergent.indication.icd10.code','colectomy.non-emergent.indication.icd10.code',regex=False)"
   ]
  },
  {
   "cell_type": "code",
   "execution_count": 132,
   "metadata": {},
   "outputs": [],
   "source": [
    "#list(data)"
   ]
  },
  {
   "cell_type": "code",
   "execution_count": 133,
   "metadata": {},
   "outputs": [],
   "source": [
    "data_1_4 = pd.read_csv('data/data_clean1.csv',na_values='Unknown')\n",
    "data_1_4_vars = list(data_1_4)"
   ]
  },
  {
   "cell_type": "code",
   "execution_count": 134,
   "metadata": {},
   "outputs": [
    {
     "data": {
      "text/plain": [
       "(1302, 90)"
      ]
     },
     "execution_count": 134,
     "metadata": {},
     "output_type": "execute_result"
    }
   ],
   "source": [
    "data_1_4.shape"
   ]
  },
  {
   "cell_type": "code",
   "execution_count": 135,
   "metadata": {},
   "outputs": [
    {
     "name": "stdout",
     "output_type": "stream",
     "text": [
      "OUT >10%.loss.of.body.weight.in.the.6.months.prior.to.surgery\n",
      "OUT sepsis.(sirs/sepsis/septic.shock).(48h)\n",
      "OUT duration.of.surgical.procedure.(in.minutes)\n",
      "OUT #.of.postop.transfusion.intraop/.postop.(72h.of.surgery.start.time)\n",
      "86\n"
     ]
    }
   ],
   "source": [
    "yr_5_vars = list(data)\n",
    "sum = 0\n",
    "for i in range(len(data_1_4_vars)):\n",
    "    if (data_1_4_vars[i] in yr_5_vars):\n",
    "        #print(\"IN\",data_1_4_vars[i])\n",
    "        sum+=1\n",
    "    else:\n",
    "        print(\"OUT\",data_1_4_vars[i])\n",
    "print(sum)\n"
   ]
  },
  {
   "cell_type": "code",
   "execution_count": 136,
   "metadata": {},
   "outputs": [
    {
     "data": {
      "text/plain": [
       "NaN    706\n",
       "No     513\n",
       "Yes     83\n",
       "Name: >10%.loss.of.body.weight.in.the.6.months.prior.to.surgery, dtype: int64"
      ]
     },
     "execution_count": 136,
     "metadata": {},
     "output_type": "execute_result"
    }
   ],
   "source": [
    "data_1_4['>10%.loss.of.body.weight.in.the.6.months.prior.to.surgery'].value_counts(dropna=False)"
   ]
  },
  {
   "cell_type": "code",
   "execution_count": 137,
   "metadata": {},
   "outputs": [
    {
     "data": {
      "text/plain": [
       "NaN    256\n",
       "Name: malnourishment, dtype: int64"
      ]
     },
     "execution_count": 137,
     "metadata": {},
     "output_type": "execute_result"
    }
   ],
   "source": [
    "data['malnourishment'].value_counts(dropna=False)"
   ]
  },
  {
   "cell_type": "code",
   "execution_count": 138,
   "metadata": {},
   "outputs": [],
   "source": [
    "data_1_4.drop(['>10%.loss.of.body.weight.in.the.6.months.prior.to.surgery'],axis=1,inplace=True)\n",
    "data_1_4_vars = list(data_1_4)"
   ]
  },
  {
   "cell_type": "code",
   "execution_count": 142,
   "metadata": {},
   "outputs": [
    {
     "name": "stdout",
     "output_type": "stream",
     "text": [
      "89\n"
     ]
    }
   ],
   "source": [
    "yr_5_vars = list(data)\n",
    "sum = 0\n",
    "for i in range(len(data_1_4_vars)):\n",
    "    if (data_1_4_vars[i] in yr_5_vars):\n",
    "        #print(\"IN\",data_1_4_vars[i])\n",
    "        sum+=1\n",
    "    else:\n",
    "        print(\"OUT\",data_1_4_vars[i])\n",
    "print(sum)"
   ]
  },
  {
   "cell_type": "code",
   "execution_count": 143,
   "metadata": {},
   "outputs": [],
   "source": [
    "data_5 = data[data_1_4_vars]"
   ]
  },
  {
   "cell_type": "code",
   "execution_count": 144,
   "metadata": {},
   "outputs": [
    {
     "data": {
      "text/plain": [
       "(1558, 89)"
      ]
     },
     "execution_count": 144,
     "metadata": {},
     "output_type": "execute_result"
    }
   ],
   "source": [
    "comb_data = pd.concat([data_1_4,data_5],axis=0)\n",
    "comb_data.shape"
   ]
  },
  {
   "cell_type": "code",
   "execution_count": 145,
   "metadata": {},
   "outputs": [],
   "source": [
    "comb_data.to_csv('data/comb5_data.csv', index=False)"
   ]
  },
  {
   "cell_type": "code",
   "execution_count": null,
   "metadata": {},
   "outputs": [],
   "source": []
  }
 ],
 "metadata": {
  "kernelspec": {
   "display_name": "Python 3.8.10 64-bit",
   "language": "python",
   "name": "python3"
  },
  "language_info": {
   "codemirror_mode": {
    "name": "ipython",
    "version": 3
   },
   "file_extension": ".py",
   "mimetype": "text/x-python",
   "name": "python",
   "nbconvert_exporter": "python",
   "pygments_lexer": "ipython3",
   "version": "3.8.10"
  },
  "orig_nbformat": 2,
  "vscode": {
   "interpreter": {
    "hash": "916dbcbb3f70747c44a77c7bcd40155683ae19c65e1c03b4aa3499c5328201f1"
   }
  }
 },
 "nbformat": 4,
 "nbformat_minor": 2
}
